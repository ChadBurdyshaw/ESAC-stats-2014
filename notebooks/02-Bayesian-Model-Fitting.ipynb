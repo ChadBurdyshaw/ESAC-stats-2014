{
 "metadata": {
  "name": "",
  "signature": "sha256:b4b5d25b05b13aeee3a56c12354bc20729d75e9d4f32ae60217dfd1d64e0e10f"
 },
 "nbformat": 3,
 "nbformat_minor": 0,
 "worksheets": [
  {
   "cells": [
    {
     "cell_type": "markdown",
     "metadata": {},
     "source": [
      "# Bayesian Model Fitting"
     ]
    },
    {
     "cell_type": "code",
     "collapsed": false,
     "input": [],
     "language": "python",
     "metadata": {},
     "outputs": []
    }
   ],
   "metadata": {}
  }
 ]
}