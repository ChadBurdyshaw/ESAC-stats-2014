{
 "metadata": {
  "name": "",
  "signature": "sha256:db846427d30cb180fb021b6eb1b125f94453e75ab5ec2b3f703bb3c2c6de2e65"
 },
 "nbformat": 3,
 "nbformat_minor": 0,
 "worksheets": [
  {
   "cells": [
    {
     "cell_type": "markdown",
     "metadata": {},
     "source": [
      "# Bayesian Model Fitting"
     ]
    },
    {
     "cell_type": "markdown",
     "metadata": {},
     "source": [
      "- *Jake VanderPlas*\n",
      "- *ESAC statistics workshop, Oct 27-31 2014*\n",
      "- *Source available on [github](http://github.com/jakevdp/ESAC-stats-2014)"
     ]
    },
    {
     "cell_type": "markdown",
     "metadata": {},
     "source": [
      "## Outline\n",
      "\n",
      "- Units and Probability\n",
      "- Manipulating Probability: Bayes' Theorem\n",
      "- The Bayesian Leap: Probability as *degree of belief*\n",
      "- Fitting a Line\n",
      "  + Likelihood, Prior, and Posterior\n",
      "  + What to do about the prior?\n",
      "- More complex models: Sampling with ``emcee``"
     ]
    },
    {
     "cell_type": "markdown",
     "metadata": {},
     "source": [
      "## Preliminaries\n",
      "\n",
      "Again, we'll start with some boilerplate imports and setup"
     ]
    },
    {
     "cell_type": "code",
     "collapsed": false,
     "input": [
      "%matplotlib inline\n",
      "import numpy as np\n",
      "import matplotlib.pyplot as plt\n",
      "from scipy import stats\n",
      "\n",
      "# fig_code is in the repository linked above\n",
      "import fig_code\n",
      "\n",
      "# use seaborn plotting defaults\n",
      "# If this causes an error, you can comment it out.\n",
      "import seaborn as sns\n",
      "sns.set()"
     ],
     "language": "python",
     "metadata": {},
     "outputs": [],
     "prompt_number": 1
    },
    {
     "cell_type": "markdown",
     "metadata": {},
     "source": [
      "## Exploring Probability\n",
      "\n",
      "Bayesian approaches to model fitting are all about probability. Previously we looked at probability within the likelihood; for a single measured number, we have a probability density that looks like this:\n",
      "\n",
      "$$\n",
      "p(y~|~I)\n",
      "$$\n",
      "\n",
      "Here $y$ is the value that we observe, and $I$ is whatever information is out there that helps us specify this.\n",
      "This expression should be read *the probability density of $y$ given $I$*.\n",
      "\n",
      "Often statistics courses will go to great lengths to distinguish discrete probabilities from continuous probability densities; here we're going to ignore the discrete case and just look at the continuous case. A probability density must satisfy the following:\n",
      "\n",
      "$$\n",
      "\\int_{-\\infty}^\\infty p(y~|~I)dy = 1\n",
      "$$\n",
      "\n",
      "That is, the probability density is normalized.\n",
      "\n",
      "**Question 1: what are the units of $p(y~|~I)$?**\n",
      "\n",
      "**Question 2: what does $\\int p(y~|~I)dI$ mean?**"
     ]
    },
    {
     "cell_type": "markdown",
     "metadata": {},
     "source": [
      "*Answer 1: units of $p(y~|~I)$ are inverse of the units of $y$! So, for example, if $y$ is a distance, $p(y~|~I)$ has units 1/distance*\n",
      "    \n",
      "*Answer 2: it's meaningless! You should never do that integral!*"
     ]
    },
    {
     "cell_type": "markdown",
     "metadata": {},
     "source": [
      "### The Units of Probability Density\n",
      "\n",
      "This is an important thing to remember: the units of a probability density are the inverse of the units of the quantity in question. Keeping this in mind will help you recognize all sorts of common mistakes in computations of probability."
     ]
    },
    {
     "cell_type": "markdown",
     "metadata": {},
     "source": [
      "### Joint Probabilities\n",
      "\n",
      "As we saw in the frequentist section, we can write *joint* probability densities for multiple variables. This is written as:\n",
      "\n",
      "$$\n",
      "p(x, y~|~I)\n",
      "$$\n",
      "\n",
      "This should be read \"the probability density of $x$ and $y$ given $I$\".\n",
      "In analogy to above, it must satisfy the equation\n",
      "\n",
      "$$\n",
      "\\iint p(x, y~|~I) dxdy = 1\n",
      "$$\n",
      "\n",
      "Take a moment and think about this: what are the units of this joint probability?"
     ]
    },
    {
     "cell_type": "code",
     "collapsed": false,
     "input": [
      "fig_code.plot_venn_diagram()"
     ],
     "language": "python",
     "metadata": {},
     "outputs": [
      {
       "metadata": {},
       "output_type": "display_data",
       "png": "[encoded data removed]",
       "text": [
        "<matplotlib.figure.Figure at 0x103714ad0>"
       ]
      }
     ],
     "prompt_number": 2
    },
    {
     "cell_type": "markdown",
     "metadata": {},
     "source": [
      "One nice way to think about joint probabilities is in terms of a Venn Diagram. Areas in the Venn diagram are proportional to probabilities, and here we're just looking at the part of parameter space where $\\theta$ holds.\n",
      "\n",
      "- When we write $p(x~|~I)$, this is akin to measuring the area of the $x$ region compared to the area of the $I$ region.\n",
      "- When we write $p(x,y~|~I)$, this is akin to measuring the area of the intersection of $x$ and $y$ compared to the area of the $I$ region.\n",
      "\n",
      "**Question: what would $p(x~|~y,I)$ mean?**"
     ]
    },
    {
     "cell_type": "markdown",
     "metadata": {},
     "source": [
      "If we write something like $p(x~|~y,I)$, this is known as the *conditional* probability of $x$ given $y$ (and $I$).\n",
      "\n",
      "**Question: Looking at the Venn Diagram, how could you express this conditional probability in terms of the joint probability?**"
     ]
    },
    {
     "cell_type": "markdown",
     "metadata": {},
     "source": [
      "### Deriving Bayes' Rule\n",
      "\n",
      "One of the fundamental rules of conditional probability is this:\n",
      "\n",
      "$$\n",
      "p(x~|~y,I) \\equiv \\frac{p(x, y~|~I)}{p(y~|~I)}\n",
      "$$\n",
      "\n",
      "Or, rewriting this, we have the expression:\n",
      "\n",
      "$$\n",
      "p(x, y~|~I) = p(x~|~y,I) p(y~|~I)\n",
      "$$\n",
      "\n",
      "Of course, this is symmetric so we could also write:\n",
      "\n",
      "$$\n",
      "p(x, y~|~I) = p(y~|~x,I) p(x~|~I)\n",
      "$$\n",
      "\n",
      "Putting these last two together, we see\n",
      "\n",
      "$$\n",
      "p(x~|~y,I) p(y~|~I) = p(y~|~x,I) p(x~|~I)\n",
      "$$\n",
      "\n",
      "Which, rearranged slightly, looks like this\n",
      "\n",
      "$$\n",
      "p(x~|~y,I) = \\frac{p(y~|~x,I) p(x~|~I)}{p(y~|~I)}\n",
      "$$\n",
      "\n",
      "This little result is known as *Bayes' Rule* or *Bayes' Theorem*, after the reverend Thomas Bayes. We'll come back to this in a bit, but first we have to get a bit philosophical."
     ]
    },
    {
     "cell_type": "markdown",
     "metadata": {},
     "source": [
      "### What Is a Probability?\n",
      "\n",
      "Above we've been happily exploring the mathematical characteristics of probability; but we haven't stopped to ask **what** the probability is measuring. For example, when I say \"the probability that this coin will land heads is 50%\", what claim am I actually making?\n",
      "\n",
      "A full answer to this would probably require a semester philosophy class, but history has distilled for us two camps of thought on this question:\n",
      "\n",
      "- **frequentist** or **classical** statistics would say that the probability is a statement about limiting frequencies in repeated trials: in the limit of many coin flips, 50% of the results will be heads.\n",
      "\n",
      "- **Bayesian** statistics would agree with the above statement, but would extend the notion of probability to include **degrees of belief**. So, even absent a large number of (potentially theoretical) trials, we could say that the 50% probability indicates our certainty of a single result: given what we know about the coin, we are 50% certain that the flip will land heads."
     ]
    },
    {
     "cell_type": "markdown",
     "metadata": {},
     "source": [
      "## Bayes' Rule & Model Fitting\n",
      "\n",
      "Again, this is the result we've derived:\n",
      "\n",
      "$$\n",
      "p(x~|~y,I) = \\frac{p(y~|~x,I) p(x~|~I)}{p(y~|~I)}\n",
      "$$\n",
      "\n",
      "Note that this is, in some ways, a trivially true statement based on a couple axioms of probability: graphically, it's just a consequence of expressing the intersection of the Venn diagram from two points of view (Note that often the $I$ in these terms is dropped, though its presence is always assumed)."
     ]
    },
    {
     "cell_type": "code",
     "collapsed": false,
     "input": [],
     "language": "python",
     "metadata": {},
     "outputs": [],
     "prompt_number": 2
    }
   ],
   "metadata": {}
  }
 ]
}