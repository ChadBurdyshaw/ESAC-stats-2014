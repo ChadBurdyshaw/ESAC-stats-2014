{
 "metadata": {
  "name": "",
  "signature": "sha256:b150df23a05837d7925fc943f70f41cd0732bb09c8f4bafbe3842c70b471c54d"
 },
 "nbformat": 3,
 "nbformat_minor": 0,
 "worksheets": [
  {
   "cells": [
    {
     "cell_type": "markdown",
     "metadata": {},
     "source": [
      "# Unsupervised Learning"
     ]
    },
    {
     "cell_type": "markdown",
     "metadata": {},
     "source": [
      "- *Jake VanderPlas*\n",
      "- *ESAC statistics workshop, Oct 27-31 2014*\n",
      "- *Source available on [github](http://github.com/jakevdp/ESAC-stats-2014)*"
     ]
    },
    {
     "cell_type": "markdown",
     "metadata": {},
     "source": [
      "## Outline\n",
      "\n",
      "- Dimensionality Reduction\n",
      "  + PCA in-depth\n",
      "- Clustering\n",
      "  + K Means\n",
      "  + Gaussian Mixture Models\n",
      "- Density Estimation\n",
      "  + Gaussian Mixture Models\n",
      "  + Kernel Density Estimation\n",
      "\n",
      "## Breakout\n",
      "- Unsupervised learning on LINEAR data\n",
      "- Creating a K-means implementation?"
     ]
    },
    {
     "cell_type": "code",
     "collapsed": false,
     "input": [],
     "language": "python",
     "metadata": {},
     "outputs": []
    }
   ],
   "metadata": {}
  }
 ]
}