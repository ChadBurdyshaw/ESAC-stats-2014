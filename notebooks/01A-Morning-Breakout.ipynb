{
 "metadata": {
  "name": "",
  "signature": "sha256:988ffa189d4519380b96d8c94cc0b771bd24e0c76ba441d9804daaa2d107f0fa"
 },
 "nbformat": 3,
 "nbformat_minor": 0,
 "worksheets": [
  {
   "cells": [
    {
     "cell_type": "markdown",
     "metadata": {},
     "source": [
      "# Frequentist Model Fitting Breakout"
     ]
    },
    {
     "cell_type": "code",
     "collapsed": false,
     "input": [],
     "language": "python",
     "metadata": {},
     "outputs": []
    }
   ],
   "metadata": {}
  }
 ]
}