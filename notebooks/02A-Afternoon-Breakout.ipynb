{
 "metadata": {
  "name": "",
  "signature": "sha256:a50f72d38b4ce1378017b3086ad5d094263d2f3b830c60a598b284e7c274e7eb"
 },
 "nbformat": 3,
 "nbformat_minor": 0,
 "worksheets": [
  {
   "cells": [
    {
     "cell_type": "markdown",
     "metadata": {},
     "source": [
      "# Afternoon Breakout"
     ]
    },
    {
     "cell_type": "code",
     "collapsed": false,
     "input": [],
     "language": "python",
     "metadata": {},
     "outputs": []
    }
   ],
   "metadata": {}
  }
 ]
}