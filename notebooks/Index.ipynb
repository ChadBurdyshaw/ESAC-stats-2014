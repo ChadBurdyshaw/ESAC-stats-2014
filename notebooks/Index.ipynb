{
 "metadata": {
  "name": "",
  "signature": "sha256:24b046d56b1e2c770f54c0c8b10c92a9d84923ce60aa9ee60d01554d322401ea"
 },
 "nbformat": 3,
 "nbformat_minor": 0,
 "worksheets": [
  {
   "cells": [
    {
     "cell_type": "markdown",
     "metadata": {},
     "source": [
      "# Index\n",
      "\n",
      "This is the index of notebooks for my portions of the ESAC statistics workshop, October 27-31 at the ESAC outside Madrid, Spain. The source of this material can be found at http://github.com/jakevdp/ESAC-stats-2014\n",
      "\n",
      "## Monday\n",
      "\n",
      "- Morning Session: [Model Fitting I (frequentist)](01-Frequentist-Model-Fitting.ipynb)\n",
      "  + [Breakout](01A-Morning-Breakout.ipynb)\n",
      "  \n",
      "- Afternoon Session: [Model Fitting II (Bayesian)](02-Bayesian-Model-Fitting.ipynb)\n",
      "  + [Breakout](02A-Afternoon-Breakout.ipynb)\n",
      "  \n",
      "## Thursday\n",
      "- Afternoon Session: [Introduction to Machine Learning](03-Scikit-Learn-Intro.ipynb)\n",
      "  + [Breakout](03A-Afternoon-Breakout.ipynb)"
     ]
    }
   ],
   "metadata": {}
  }
 ]
}