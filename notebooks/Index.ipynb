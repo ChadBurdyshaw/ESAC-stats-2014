{
 "metadata": {
  "name": "",
  "signature": "sha256:07ac8f7fedef88fb1427d11b41d9de2399d7fc27a61f1da5d0101224fc760d9f"
 },
 "nbformat": 3,
 "nbformat_minor": 0,
 "worksheets": [
  {
   "cells": [
    {
     "cell_type": "markdown",
     "metadata": {},
     "source": [
      "# Index\n",
      "\n",
      "This is the index of notebooks for my portions of the ESAC statistics workshop, October 27-31 at the ESAC outside Madrid, Spain. The source of this material can be found at http://github.com/jakevdp/ESAC-stats-2014"
     ]
    },
    {
     "cell_type": "markdown",
     "metadata": {},
     "source": [
      "## Monday\n",
      "\n",
      "- Morning Session:\n",
      "  + [Model Fitting I (frequentist)](01.1-Frequentist-Model-Fitting.ipynb)\n",
      "  + [Breakout](01.2-Model-Fitting-Breakout.ipynb)\n",
      "  \n",
      "- Afternoon Session:\n",
      "  + [Model Fitting II (Bayesian)](02.1-Bayesian-Model-Fitting.ipynb)\n",
      "  + [Breakout](02.2-Afternoon-Breakout.ipynb)"
     ]
    },
    {
     "cell_type": "markdown",
     "metadata": {},
     "source": [
      "## Thursday\n",
      "- Afternoon Session:\n",
      "  + [Introduction to Machine Learning](03.1-Scikit-Learn-Intro.ipynb)\n",
      "  + [Breakout](03.2-Machine-Learning-Breakout.ipynb)"
     ]
    },
    {
     "cell_type": "markdown",
     "metadata": {},
     "source": [
      "## Friday\n",
      "- Morning Session:\n",
      "  + [Classification: SVMs in-depth](04.1-Classification-SVMs.ipynb)\n",
      "  + [Regression: Trees & Forests in-depth](04.2-Regression-Forests.ipynb)\n",
      "  + [Model Validation & Testing](04.3-Validation.ipynb)\n",
      "  + [Breakout](04.4-Validation-Breakout.ipynb)\n",
      "  \n",
      "- Afternoon Session:\n",
      "  + [Unsupervised Learning](05.1-Unsupervised-Learning.ipynb)\n",
      "  + [Breakout](05.2-Unsupervised-Breakout.ipynb)"
     ]
    }
   ],
   "metadata": {}
  }
 ]
}