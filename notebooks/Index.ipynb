{
 "metadata": {
  "name": "",
  "signature": "sha256:dc5d4a4ca4e5cf640d743fdb3d94466f834a7097a76aa71eac7ac4cabd5304c3"
 },
 "nbformat": 3,
 "nbformat_minor": 0,
 "worksheets": [
  {
   "cells": [
    {
     "cell_type": "markdown",
     "metadata": {},
     "source": [
      "# Index\n",
      "\n",
      "This is the index of notebooks for my portions of the ESAC statistics workshop, October 27-31 at the ESAC outside Madrid, Spain. The source of this material can be found at http://github.com/jakevdp/ESAC-stats-2014.\n",
      "\n",
      "You can see the workshop details & agenda here: http://www.cosmos.esa.int/web/esac-science-faculty/esac-statistics-workshop-2014."
     ]
    },
    {
     "cell_type": "markdown",
     "metadata": {},
     "source": [
      "---\n",
      "\n",
      "## Monday\n",
      "\n",
      "- Morning Session:\n",
      "  + [Model Fitting I (frequentist)](01.1-Frequentist-Model-Fitting.ipynb)\n",
      "  + [Breakout](01.2-Model-Fitting-Breakout.ipynb) (Solution notebook [here](Solution-01.2.ipynb))\n",
      "  \n",
      "- Afternoon Session:\n",
      "  + [Model Fitting II (Bayesian)](02.1-Bayesian-Model-Fitting.ipynb)\n",
      "  + [Breakout](02.2-Afternoon-Breakout.ipynb) (Solution notebook [here](Solution-02.2.ipynb))"
     ]
    },
    {
     "cell_type": "markdown",
     "metadata": {},
     "source": [
      "---\n",
      "\n",
      "*The following is still in draft form, and will be updated soon!*"
     ]
    },
    {
     "cell_type": "markdown",
     "metadata": {},
     "source": [
      "## Thursday\n",
      "- Afternoon Session:\n",
      "  + [Introduction to Machine Learning](03.1-Scikit-Learn-Intro.ipynb)\n",
      "  + [Breakout](03.2-Machine-Learning-Breakout.ipynb)"
     ]
    },
    {
     "cell_type": "markdown",
     "metadata": {},
     "source": [
      "---\n",
      "## Friday\n",
      "- Morning Session:\n",
      "  + [Classification: SVMs in-depth](04.1-Classification-SVMs.ipynb)\n",
      "  + [Regression: Trees & Forests in-depth](04.2-Regression-Forests.ipynb)\n",
      "  + [Model Validation & Testing](04.3-Validation.ipynb)\n",
      "  + [Breakout](04.4-Validation-Breakout.ipynb)\n",
      "  \n",
      "- Afternoon Session:\n",
      "  + [Dimensionality Reduction: PCA in-depth](05.1-Dimensionality-PCA.ipynb)\n",
      "  + [Clustering: KMeans in-depth](05.2-Clustering-KMeans.ipynb)\n",
      "  + [Density Estimation: Gaussian Mixtures in-depth](05.3-Density-GMM.ipynb)\n",
      "  + [Breakout](05.4-Unsupervised-Breakout.ipynb)"
     ]
    }
   ],
   "metadata": {}
  }
 ]
}