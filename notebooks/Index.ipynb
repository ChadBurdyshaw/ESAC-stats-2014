{
 "metadata": {
  "name": "",
  "signature": "sha256:f36095009e8430b0c808e6d9c8a5db21d33730b88df61a00e4057932758e58bd"
 },
 "nbformat": 3,
 "nbformat_minor": 0,
 "worksheets": [
  {
   "cells": [
    {
     "cell_type": "markdown",
     "metadata": {},
     "source": [
      "# Index\n",
      "\n",
      "This is the index of notebooks for my portions of the ESAC statistics workshop, October 27-31 at the ESAC outside Madrid, Spain. The source of this material can be found at http://github.com/jakevdp/ESAC-stats-2014"
     ]
    },
    {
     "cell_type": "markdown",
     "metadata": {},
     "source": [
      "---\n",
      "\n",
      "## Monday\n",
      "\n",
      "- Morning Session:\n",
      "  + [Model Fitting I (frequentist)](01.1-Frequentist-Model-Fitting.ipynb)\n",
      "  + [Breakout](01.2-Model-Fitting-Breakout.ipynb) (Solution notebook [here](Solution-01.2.ipynb))\n",
      "  \n",
      "- Afternoon Session:\n",
      "  + [Model Fitting II (Bayesian)](02.1-Bayesian-Model-Fitting.ipynb)\n",
      "  + [Breakout](02.2-Afternoon-Breakout.ipynb) (Solution notebook [here](Solution-02.2.ipynb))"
     ]
    },
    {
     "cell_type": "markdown",
     "metadata": {},
     "source": [
      "---\n",
      "\n",
      "*The following is still in draft form, and will be updated soon!*"
     ]
    },
    {
     "cell_type": "markdown",
     "metadata": {},
     "source": [
      "## Thursday\n",
      "- Afternoon Session:\n",
      "  + [Introduction to Machine Learning](03.1-Scikit-Learn-Intro.ipynb)\n",
      "  + [Breakout](03.2-Machine-Learning-Breakout.ipynb)"
     ]
    },
    {
     "cell_type": "markdown",
     "metadata": {},
     "source": [
      "---\n",
      "## Friday\n",
      "- Morning Session:\n",
      "  + [Classification: SVMs in-depth](04.1-Classification-SVMs.ipynb)\n",
      "  + [Regression: Trees & Forests in-depth](04.2-Regression-Forests.ipynb)\n",
      "  + [Model Validation & Testing](04.3-Validation.ipynb)\n",
      "  + [Breakout](04.4-Validation-Breakout.ipynb)\n",
      "  \n",
      "- Afternoon Session:\n",
      "  + [Unsupervised Learning](05.1-Unsupervised-Learning.ipynb)\n",
      "  + [Breakout](05.2-Unsupervised-Breakout.ipynb)"
     ]
    }
   ],
   "metadata": {}
  }
 ]
}