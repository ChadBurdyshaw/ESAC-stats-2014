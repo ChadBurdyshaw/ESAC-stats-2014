{
 "metadata": {
  "name": "",
  "signature": "sha256:16d6b30edb3bd2546c9853458a57cff0a4db47eea59588611fd3f92e27ddfdce"
 },
 "nbformat": 3,
 "nbformat_minor": 0,
 "worksheets": [
  {
   "cells": [
    {
     "cell_type": "markdown",
     "metadata": {},
     "source": [
      "# Afternoon Breakout: Do-It-Yourself MCMC\n",
      "\n",
      "The standard Bayesian approach to model fitting involves sampling the posterior, usually via a variant of Markov Chain Monte Carlo (MCMC). Though there are many very sophisticated MCMC samplers out there, the most simple algorithm (Metropolis-Hastings) is rather straightforward to code.\n",
      "\n",
      "Here we'll walk through creating our own Metropolis-Hastings sampler from scratch.\n",
      "\n",
      "(The following is based on material put together by Adrian Price-Whelan)"
     ]
    },
    {
     "cell_type": "markdown",
     "metadata": {},
     "source": [
      "## Preliminaries\n",
      "\n",
      "As usual, we start with some imports:"
     ]
    },
    {
     "cell_type": "code",
     "collapsed": false,
     "input": [
      "%matplotlib inline\n",
      "import numpy as np\n",
      "import matplotlib.pyplot as plt\n",
      "from scipy import stats\n",
      "\n",
      "# use seaborn plotting defaults\n",
      "# If this causes an error, you can comment it out.\n",
      "import seaborn as sns\n",
      "sns.set()"
     ],
     "language": "python",
     "metadata": {},
     "outputs": [],
     "prompt_number": 1
    },
    {
     "cell_type": "markdown",
     "metadata": {},
     "source": [
      "And load some data:"
     ]
    },
    {
     "cell_type": "code",
     "collapsed": false,
     "input": [
      "from fig_code import linear_data_sample\n",
      "x, y, dy = linear_data_sample()"
     ],
     "language": "python",
     "metadata": {},
     "outputs": [],
     "prompt_number": 2
    },
    {
     "cell_type": "markdown",
     "metadata": {},
     "source": [
      "## Exercise\n",
      "\n",
      "Walk through all the following steps, filling-in the code along the way."
     ]
    },
    {
     "cell_type": "markdown",
     "metadata": {},
     "source": [
      "First plot the data to see what we're looking at (Use a ``plt.errorbar()`` plot with the provided data)"
     ]
    },
    {
     "cell_type": "code",
     "collapsed": false,
     "input": [
      "plt.errorbar(x, y, dy, fmt='o');"
     ],
     "language": "python",
     "metadata": {},
     "outputs": [
      {
       "metadata": {},
       "output_type": "display_data",
       "png": "[encoded data removed]",
       "text": [
        "<matplotlib.figure.Figure at 0x109f35210>"
       ]
      }
     ],
     "prompt_number": 3
    },
    {
     "cell_type": "markdown",
     "metadata": {},
     "source": [
      "We're going to fit a line to the data, as we've done through the lecture:"
     ]
    },
    {
     "cell_type": "code",
     "collapsed": false,
     "input": [
      "def model(theta, x):\n",
      "    # the `theta` argument is a list of parameter values, e.g., theta = [m, b] for a line\n",
      "    return theta[0] + theta[1] * x"
     ],
     "language": "python",
     "metadata": {},
     "outputs": [],
     "prompt_number": 4
    },
    {
     "cell_type": "markdown",
     "metadata": {},
     "source": [
      "---\n",
      "\n",
      "We'll start with the assumption that the data are independent and identically distributed so that the likelihood is simply a product of Gaussians (one big Gaussian). We'll also assume that the uncertainties reported are correct, and that there are no uncertainties on the `x` data. We need to define a function that will evaluate the (ln)likelihood of the data, given a particular choice of your model parameters. A good way to structure this function is as follows:"
     ]
    },
    {
     "cell_type": "code",
     "collapsed": false,
     "input": [
      "def ln_likelihood(theta, x, y, dy):\n",
      "    # we will pass the parameters (theta) to the model function\n",
      "    # the other arguments are the data\n",
      "    return -0.5 * np.sum(np.log(2 * np.pi * dy ** 2) + ((y - model(theta, x)) / dy) ** 2)"
     ],
     "language": "python",
     "metadata": {},
     "outputs": [],
     "prompt_number": 5
    },
    {
     "cell_type": "markdown",
     "metadata": {},
     "source": [
      "What about priors? Remember your prior only depends on the model parameters, but be careful about what kind of prior you are specifying for each parameter. Do we need to properly normalize the probabilities?"
     ]
    },
    {
     "cell_type": "code",
     "collapsed": false,
     "input": [
      "def ln_prior(theta):\n",
      "    # flat prior: log(1) = 0\n",
      "    return 0"
     ],
     "language": "python",
     "metadata": {},
     "outputs": [],
     "prompt_number": 6
    },
    {
     "cell_type": "markdown",
     "metadata": {},
     "source": [
      "Now we can define a function that evaluates the (ln)posterior probability, which is just the sum of the ln prior and ln likelihood:"
     ]
    },
    {
     "cell_type": "code",
     "collapsed": false,
     "input": [
      "def ln_posterior(theta, x, y, dy):\n",
      "    return ln_prior(theta) + ln_likelihood(theta, x, y, dy)"
     ],
     "language": "python",
     "metadata": {},
     "outputs": [],
     "prompt_number": 7
    },
    {
     "cell_type": "markdown",
     "metadata": {},
     "source": [
      "Now write a function to actually run a Metropolis-Hastings MCMC sampler. Ford (2005) includes a great step-by-step walkthrough of the Metropolis-Hastings algorithm, and we'll base our code on that. Fill-in the steps mentioned in the comments below:"
     ]
    },
    {
     "cell_type": "code",
     "collapsed": false,
     "input": [
      "def run_mcmc(ln_posterior, nsteps, ndim, theta0, stepsize, args=()):\n",
      "    \"\"\"\n",
      "    Run a Markov Chain Monte Carlo\n",
      "    \n",
      "    Parameters\n",
      "    ----------\n",
      "    ln_posterior: callable\n",
      "        our function to compute the posterior\n",
      "    nsteps: int\n",
      "        the number of steps in the chain\n",
      "    theta0: list\n",
      "        the starting guess for theta\n",
      "    stepsize: float\n",
      "        a parameter controlling the size of the random step\n",
      "        e.g. it could be the width of the Gaussian distribution\n",
      "    args: tuple (optional)\n",
      "        additional arguments passed to ln_posterior\n",
      "    \"\"\"\n",
      "    # Create the array of size (nsteps, ndims) to hold the chain\n",
      "    # Initialize the first row of this with theta0\n",
      "    chain = np.zeros((nsteps, ndim))\n",
      "    chain[0] = theta0\n",
      "    \n",
      "    # Create the array of size nsteps to hold the log-likelihoods for each point\n",
      "    # Initialize the first entry of this with the log likelihood at theta0\n",
      "    log_likes = np.zeros(nsteps)\n",
      "    log_likes[0] = ln_posterior(chain[0], *args)\n",
      "    \n",
      "    # Loop for nsteps\n",
      "    for i in range(1, nsteps):\n",
      "        # Randomly draw a new theta from the proposal distribution.\n",
      "        # for example, you can do a normally-distributed step by utilizing\n",
      "        # the np.random.randn() function\n",
      "        theta_new = chain[i - 1] + stepsize * np.random.randn(ndim)\n",
      "        \n",
      "        # Calculate the probability for the new state\n",
      "        log_like_new = ln_likelihood(theta_new, *args)\n",
      "        \n",
      "        # Compare it to the probability of the old state\n",
      "        # Using the acceptance probability function\n",
      "        # (remember that you've computed the log probability, not the probability!)\n",
      "        log_p_accept = log_like_new - log_likes[i - 1]\n",
      "        \n",
      "        # Chose a random number r between 0 and 1 to compare with p_accept\n",
      "        r = np.random.rand()\n",
      "        \n",
      "        # If p_accept>1 or p_accept>r, accept the step\n",
      "        # Else, do not accept the step\n",
      "        if log_p_accept > np.log(r):\n",
      "            chain[i] = theta_new\n",
      "            log_likes[i] = log_like_new\n",
      "        else:\n",
      "            chain[i] = chain[i - 1]\n",
      "            log_likes[i] = log_likes[i - 1]\n",
      "            \n",
      "    return chain"
     ],
     "language": "python",
     "metadata": {},
     "outputs": [],
     "prompt_number": 8
    },
    {
     "cell_type": "markdown",
     "metadata": {},
     "source": [
      "Now run the MCMC code on the data provided."
     ]
    },
    {
     "cell_type": "code",
     "collapsed": false,
     "input": [
      "chain = run_mcmc(ln_posterior, 5000, 2, [0, 1], 0.1, (x, y, dy))"
     ],
     "language": "python",
     "metadata": {},
     "outputs": [],
     "prompt_number": 9
    },
    {
     "cell_type": "markdown",
     "metadata": {},
     "source": [
      "Plot the position of the walker as a function of step number for each of the parameters. Are the chains converged? "
     ]
    },
    {
     "cell_type": "code",
     "collapsed": false,
     "input": [
      "plt.plot(chain[:, 0])\n",
      "plt.plot(chain[:, 1]);"
     ],
     "language": "python",
     "metadata": {},
     "outputs": [
      {
       "metadata": {},
       "output_type": "display_data",
       "png": "[encoded data removed]",
       "text": [
        "<matplotlib.figure.Figure at 0x10a9acd90>"
       ]
      }
     ],
     "prompt_number": 10
    },
    {
     "cell_type": "markdown",
     "metadata": {},
     "source": [
      "Make histograms of the samples for each parameter. Should you include all of the samples? "
     ]
    },
    {
     "cell_type": "code",
     "collapsed": false,
     "input": [
      "plt.hist(chain[1000:, 0], alpha=0.5)\n",
      "plt.hist(chain[1000:, 1], alpha=0.5);"
     ],
     "language": "python",
     "metadata": {},
     "outputs": [
      {
       "metadata": {},
       "output_type": "display_data",
       "png": "[encoded data removed]",
       "text": [
        "<matplotlib.figure.Figure at 0x109e2f4d0>"
       ]
      }
     ],
     "prompt_number": 11
    },
    {
     "cell_type": "markdown",
     "metadata": {},
     "source": [
      "Report to us your constraints on the model parameters -- you have some freedom in interpreting what this means..."
     ]
    },
    {
     "cell_type": "code",
     "collapsed": false,
     "input": [
      "theta_best = np.mean(chain[1000:], 0)\n",
      "print(\"slope, intercept =\", theta_best)"
     ],
     "language": "python",
     "metadata": {},
     "outputs": [
      {
       "output_type": "stream",
       "stream": "stdout",
       "text": [
        "slope, intercept = [-3.22283323  3.21767858]\n"
       ]
      }
     ],
     "prompt_number": 12
    },
    {
     "cell_type": "code",
     "collapsed": false,
     "input": [],
     "language": "python",
     "metadata": {},
     "outputs": [],
     "prompt_number": 12
    }
   ],
   "metadata": {}
  }
 ]
}