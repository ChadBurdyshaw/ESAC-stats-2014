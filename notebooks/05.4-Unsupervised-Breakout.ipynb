{
 "metadata": {
  "name": "",
  "signature": "sha256:6c3fedfbc215fd8198a4d75d97cb1d2e6d2ff29526b162bbecb5a669c4fbb588"
 },
 "nbformat": 3,
 "nbformat_minor": 0,
 "worksheets": [
  {
   "cells": [
    {
     "cell_type": "markdown",
     "metadata": {},
     "source": [
      "# Breakout: data mining the LINEAR catalog\n",
      "\n",
      "In this breakout we'll explore unsupervised clustering and anomaly detection in variable sources from the LINEAR survey.\n",
      "This is similar to part of the analysis done in [this paper](http://adsabs.harvard.edu/abs/2013AJ....146..101P) (see also [this astroML example](http://www.astroml.org/book_figures/chapter10/fig_LINEAR_clustering.html)).\n",
      "\n",
      "We'll start with our standard imports, then take a look at the data:"
     ]
    },
    {
     "cell_type": "code",
     "collapsed": false,
     "input": [
      "%matplotlib inline\n",
      "import numpy as np\n",
      "import matplotlib.pyplot as plt\n",
      "from scipy import stats\n",
      "\n",
      "# use seaborn plotting defaults\n",
      "# If this causes an error, you can comment it out.\n",
      "import seaborn as sns\n",
      "sns.set()"
     ],
     "language": "python",
     "metadata": {},
     "outputs": [],
     "prompt_number": 1
    },
    {
     "cell_type": "markdown",
     "metadata": {},
     "source": [
      "## Looking at the LINEAR data\n",
      "\n",
      "First we will download the data with astroML. This data is a set of variable sources from the LINEAR survey: we have both photometry (*u-g*, *g-i*, *i-K*, *J-K* colors) and light-curve measurements (*logP*, *amplitude*, and *skew*).\n",
      "\n",
      "### LINEAR catalog\n",
      "We have two views of the data. The first is a catalog derived from the light curves:"
     ]
    },
    {
     "cell_type": "code",
     "collapsed": false,
     "input": [
      "from astroML.datasets import fetch_LINEAR_geneva\n",
      "\n",
      "data = fetch_LINEAR_geneva()\n",
      "feature_names = ['ug', 'gi', 'iK', 'JK', 'logP', 'amp', 'skew']\n",
      "X = np.vstack([data[f] for f in feature_names]).T\n",
      "print(X.shape)"
     ],
     "language": "python",
     "metadata": {},
     "outputs": [
      {
       "output_type": "stream",
       "stream": "stdout",
       "text": [
        "(6146, 7)\n"
       ]
      }
     ],
     "prompt_number": 2
    },
    {
     "cell_type": "markdown",
     "metadata": {},
     "source": [
      "The object ID is also available, if you'd like to refer back to the raw LINEAR data"
     ]
    },
    {
     "cell_type": "code",
     "collapsed": false,
     "input": [
      "data['LINEARobjectID']"
     ],
     "language": "python",
     "metadata": {},
     "outputs": [
      {
       "metadata": {},
       "output_type": "pyout",
       "prompt_number": 3,
       "text": [
        "array([b'29848', b'32086', b'43542', ..., b'24215207', b'24264418',\n",
        "       b'24265735'], \n",
        "      dtype='|S20')"
       ]
      }
     ],
     "prompt_number": 3
    },
    {
     "cell_type": "markdown",
     "metadata": {},
     "source": [
      "### raw LINEAR data\n",
      "\n",
      "The second set available is the raw LINEAR light curve data"
     ]
    },
    {
     "cell_type": "code",
     "collapsed": false,
     "input": [
      "from astroML.datasets import fetch_LINEAR_sample\n",
      "lightcurves = fetch_LINEAR_sample()"
     ],
     "language": "python",
     "metadata": {},
     "outputs": [
      {
       "output_type": "stream",
       "stream": "stdout",
       "text": [
        "[10003298 10004892 10013411 ...,  9984569  9987252   999528]\n"
       ]
      }
     ],
     "prompt_number": 4
    },
    {
     "cell_type": "markdown",
     "metadata": {},
     "source": [
      "So, for example, to get the first light curve in the list above, you can do:"
     ]
    },
    {
     "cell_type": "code",
     "collapsed": false,
     "input": [
      "lc_index = 20\n",
      "lcid = int(data['LINEARobjectID'][lc_index])\n",
      "t, y, dy = lightcurves[lcid].T"
     ],
     "language": "python",
     "metadata": {},
     "outputs": [],
     "prompt_number": 5
    },
    {
     "cell_type": "markdown",
     "metadata": {},
     "source": [
      "Then we can plot a phased lightcurve using the best-fit period, e.g."
     ]
    },
    {
     "cell_type": "code",
     "collapsed": false,
     "input": [
      "P = 10 ** data['logP'][lc_index]\n",
      "plt.errorbar(t % P, y, dy, fmt='o');"
     ],
     "language": "python",
     "metadata": {},
     "outputs": [
      {
       "metadata": {},
       "output_type": "display_data",
       "png": "[encoded data removed]",
       "text": [
        "<matplotlib.figure.Figure at 0x10a1abfd0>"
       ]
      }
     ],
     "prompt_number": 6
    },
    {
     "cell_type": "markdown",
     "metadata": {},
     "source": [
      "## Exploring the data\n",
      "\n",
      "This exercise is very free-form, but here are some suggestions for how to proceed with exploring this data:\n",
      "\n",
      "1. **Using Principal Component Analysis:**\n",
      "\n",
      "   A. How many dimensions are needed to represent the data?\n",
      "   \n",
      "   B. Which objects are not well-approximated by this representation?\n",
      "   \n",
      "   C. Can you find any clusters in the data by-eye?\n",
      "   \n",
      "2. **Using GMM:**\n",
      "\n",
      "   A. How many clusters best-fit the data? (you can use BIC, AIC, or some other method)\n",
      "   \n",
      "   B. Does the best-fit GMM model show any outliers in the data? Are these \"real\" outliers or artifacts?\n",
      "   \n",
      "   C. Do any of these clusters dominate (i.e. small covariance, large weight, etc.)? Can you come up with a good visualization to convey information about which point belongs to which cluster?\n",
      "   \n",
      "The purpose of this exercise is not necessarily to answer these questions, but to spend time using the tools we've learned on some **real** data, so you can see just how messy the process of data mining is! (And hey, if you find something interesting, maybe you should write a quick paper about it!) Good luck!"
     ]
    }
   ],
   "metadata": {}
  }
 ]
}