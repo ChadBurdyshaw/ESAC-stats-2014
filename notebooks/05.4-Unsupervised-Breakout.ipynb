{
 "metadata": {
  "name": "",
  "signature": "sha256:3a502152a8f94ec1e7b503a88ee6eaa20a4478e1d50caa5c8fd0741a781113e9"
 },
 "nbformat": 3,
 "nbformat_minor": 0,
 "worksheets": [
  {
   "cells": [
    {
     "cell_type": "markdown",
     "metadata": {},
     "source": [
      "# Breakout: data mining the LINEAR catalog\n",
      "\n",
      "In this breakout we'll explore unsupervised clustering and anomaly detection in variable sources from the LINEAR survey.\n",
      "This is similar to part of the analysis done in [this paper](http://adsabs.harvard.edu/abs/2013AJ....146..101P) (see also [this astroML example](http://www.astroml.org/book_figures/chapter10/fig_LINEAR_clustering.html)).\n",
      "\n",
      "We'll start with our standard imports, then take a look at the data:"
     ]
    },
    {
     "cell_type": "code",
     "collapsed": false,
     "input": [
      "%matplotlib inline\n",
      "import numpy as np\n",
      "import matplotlib.pyplot as plt\n",
      "from scipy import stats\n",
      "\n",
      "# use seaborn plotting defaults\n",
      "# If this causes an error, you can comment it out.\n",
      "import seaborn as sns\n",
      "sns.set()"
     ],
     "language": "python",
     "metadata": {},
     "outputs": [],
     "prompt_number": 1
    },
    {
     "cell_type": "markdown",
     "metadata": {},
     "source": [
      "## Looking at the LINEAR data\n",
      "\n",
      "First we will download the data with astroML. This data is a set of variable sources from the LINEAR survey: we have both photometry (*u-g*, *g-i*, *i-K*, *J-K* colors) and light-curve measurements (*logP*, *amplitude*, and *skew*).\n",
      "\n",
      "### LINEAR catalog\n",
      "We have two views of the data. The first is a catalog derived from the light curves:"
     ]
    },
    {
     "cell_type": "code",
     "collapsed": false,
     "input": [
      "from astroML.datasets import fetch_LINEAR_geneva\n",
      "\n",
      "data = fetch_LINEAR_geneva()"
     ],
     "language": "python",
     "metadata": {},
     "outputs": [],
     "prompt_number": 2
    },
    {
     "cell_type": "markdown",
     "metadata": {},
     "source": [
      "The data is in the form of a record array. That is, each item of the data is a compound object containing multiple values:"
     ]
    },
    {
     "cell_type": "code",
     "collapsed": false,
     "input": [
      "print(data.shape)"
     ],
     "language": "python",
     "metadata": {},
     "outputs": [
      {
       "output_type": "stream",
       "stream": "stdout",
       "text": [
        "(6146,)\n"
       ]
      }
     ],
     "prompt_number": 3
    },
    {
     "cell_type": "code",
     "collapsed": false,
     "input": [
      "data[0]"
     ],
     "language": "python",
     "metadata": {},
     "outputs": [
      {
       "metadata": {},
       "output_type": "pyout",
       "prompt_number": 4,
       "text": [
        "(119.526443, 46.96212, 1.166, 0.369, 1.018, 0.269, -0.2541378, 0.619, -0.313, -0.567, 16.37, 301.0, 1, b'29848')"
       ]
      }
     ],
     "prompt_number": 4
    },
    {
     "cell_type": "markdown",
     "metadata": {},
     "source": [
      "To learn what is in the data, we can look at the names from the data type"
     ]
    },
    {
     "cell_type": "code",
     "collapsed": false,
     "input": [
      "print(data.dtype.names)"
     ],
     "language": "python",
     "metadata": {},
     "outputs": [
      {
       "output_type": "stream",
       "stream": "stdout",
       "text": [
        "('RA', 'Dec', 'ug', 'gi', 'iK', 'JK', 'logP', 'amp', 'skew', 'kurt', 'magMed', 'nObs', 'LCtype', 'LINEARobjectID')\n"
       ]
      }
     ],
     "prompt_number": 5
    },
    {
     "cell_type": "markdown",
     "metadata": {},
     "source": [
      "Any individual column of values can be found with the item getter interface.\n",
      "For example, to get an array of all the RA values we can write:"
     ]
    },
    {
     "cell_type": "code",
     "collapsed": false,
     "input": [
      "data['RA']"
     ],
     "language": "python",
     "metadata": {},
     "outputs": [
      {
       "metadata": {},
       "output_type": "pyout",
       "prompt_number": 6,
       "text": [
        "array([ 119.526443,  119.324013,  118.503448, ...,  168.818787,\n",
        "        169.745926,  168.388199])"
       ]
      }
     ],
     "prompt_number": 6
    },
    {
     "cell_type": "markdown",
     "metadata": {},
     "source": [
      "If we want to do some learning on this data, we need to put it in the form of a matrix.\n",
      "For example, we can choose the following features and construct the matrix this way:"
     ]
    },
    {
     "cell_type": "code",
     "collapsed": false,
     "input": [
      "feature_names = ['ug', 'gi', 'iK', 'JK', 'logP', 'amp', 'skew']\n",
      "X = np.vstack([data[f] for f in feature_names]).T\n",
      "X.shape"
     ],
     "language": "python",
     "metadata": {},
     "outputs": [
      {
       "metadata": {},
       "output_type": "pyout",
       "prompt_number": 7,
       "text": [
        "(6146, 7)"
       ]
      }
     ],
     "prompt_number": 7
    },
    {
     "cell_type": "markdown",
     "metadata": {},
     "source": [
      "The object ID is also available, if you'd like to refer back to the raw LINEAR data"
     ]
    },
    {
     "cell_type": "code",
     "collapsed": false,
     "input": [
      "data['LINEARobjectID']"
     ],
     "language": "python",
     "metadata": {},
     "outputs": [
      {
       "metadata": {},
       "output_type": "pyout",
       "prompt_number": 8,
       "text": [
        "array([b'29848', b'32086', b'43542', ..., b'24215207', b'24264418',\n",
        "       b'24265735'], \n",
        "      dtype='|S20')"
       ]
      }
     ],
     "prompt_number": 8
    },
    {
     "cell_type": "markdown",
     "metadata": {},
     "source": [
      "### raw LINEAR data\n",
      "\n",
      "The second set available is the raw LINEAR light curve data"
     ]
    },
    {
     "cell_type": "code",
     "collapsed": false,
     "input": [
      "from astroML.datasets import fetch_LINEAR_sample\n",
      "lightcurves = fetch_LINEAR_sample()"
     ],
     "language": "python",
     "metadata": {},
     "outputs": [
      {
       "output_type": "stream",
       "stream": "stdout",
       "text": [
        "[10003298 10004892 10013411 ...,  9984569  9987252   999528]\n"
       ]
      }
     ],
     "prompt_number": 9
    },
    {
     "cell_type": "code",
     "collapsed": false,
     "input": [
      "print(lightcurves)"
     ],
     "language": "python",
     "metadata": {},
     "outputs": [
      {
       "output_type": "stream",
       "stream": "stdout",
       "text": [
        "<astroML.datasets.LINEAR_sample.LINEARdata object at 0x10a153d10>\n"
       ]
      }
     ],
     "prompt_number": 10
    },
    {
     "cell_type": "markdown",
     "metadata": {},
     "source": [
      "The result is an object which contains references to all the LINEAR data; if we're interested in any individual light curve, we can access it via the ID:"
     ]
    },
    {
     "cell_type": "code",
     "collapsed": false,
     "input": [
      "lc = lightcurves.get_light_curve(10003298)\n",
      "lc.shape"
     ],
     "language": "python",
     "metadata": {},
     "outputs": [
      {
       "metadata": {},
       "output_type": "pyout",
       "prompt_number": 11,
       "text": [
        "(196, 3)"
       ]
      }
     ],
     "prompt_number": 11
    },
    {
     "cell_type": "markdown",
     "metadata": {},
     "source": [
      "This light curve has 196 observations, and the columns are [time, magnitude, mag_error].\n",
      "One shortcut to access this data is to transpose the array:"
     ]
    },
    {
     "cell_type": "code",
     "collapsed": false,
     "input": [
      "t, y, dy = lc.T"
     ],
     "language": "python",
     "metadata": {},
     "outputs": [],
     "prompt_number": 12
    },
    {
     "cell_type": "markdown",
     "metadata": {},
     "source": [
      "We can now plot this data:"
     ]
    },
    {
     "cell_type": "code",
     "collapsed": false,
     "input": [
      "plt.errorbar(t, y, dy, fmt='o');"
     ],
     "language": "python",
     "metadata": {},
     "outputs": [
      {
       "metadata": {},
       "output_type": "display_data",
       "png": "[encoded data removed]",
       "text": [
        "<matplotlib.figure.Figure at 0x10a153cd0>"
       ]
      }
     ],
     "prompt_number": 13
    },
    {
     "cell_type": "markdown",
     "metadata": {},
     "source": [
      "### Linking the Catalogs and Raw Data\n",
      "\n",
      "The catalogs and raw data are linked by the LINEAR ID:"
     ]
    },
    {
     "cell_type": "code",
     "collapsed": false,
     "input": [
      "lc_index = 20\n",
      "lc_id = data['LINEARobjectID'][lc_index]\n",
      "lc_id"
     ],
     "language": "python",
     "metadata": {},
     "outputs": [
      {
       "metadata": {},
       "output_type": "pyout",
       "prompt_number": 14,
       "text": [
        "b'186102'"
       ]
      }
     ],
     "prompt_number": 14
    },
    {
     "cell_type": "code",
     "collapsed": false,
     "input": [
      "lc = lightcurves.get_light_curve(int(lc_id))\n",
      "t, y, dy = lc.T"
     ],
     "language": "python",
     "metadata": {},
     "outputs": [],
     "prompt_number": 15
    },
    {
     "cell_type": "markdown",
     "metadata": {},
     "source": [
      "Then we can plot a phased lightcurve using the best-fit period, e.g."
     ]
    },
    {
     "cell_type": "code",
     "collapsed": false,
     "input": [
      "P = 10 ** data['logP'][lc_index]\n",
      "phase = t % P\n",
      "plt.errorbar(phase, y, dy, fmt='o');"
     ],
     "language": "python",
     "metadata": {},
     "outputs": [
      {
       "metadata": {},
       "output_type": "display_data",
       "png": "[encoded data removed]",
       "text": [
        "<matplotlib.figure.Figure at 0x10abc1c90>"
       ]
      }
     ],
     "prompt_number": 16
    },
    {
     "cell_type": "markdown",
     "metadata": {},
     "source": [
      "## Exploring the data\n",
      "\n",
      "This exercise is very free-form, but here are some suggestions for how to proceed with exploring this data:\n",
      "\n",
      "1. **Using Principal Component Analysis:**\n",
      "\n",
      "   A. How many dimensions are needed to represent the data?\n",
      "   \n",
      "   B. Which objects are not well-approximated by this representation?\n",
      "   \n",
      "   C. Can you find any clusters in the data by-eye?\n",
      "   \n",
      "2. **Using GMM:**\n",
      "\n",
      "   A. How many clusters best-fit the data? (you can use BIC, AIC, or some other method)\n",
      "   \n",
      "   B. Does the best-fit GMM model show any outliers in the data? Are these \"real\" outliers or artifacts?\n",
      "   \n",
      "   C. Do any of these clusters dominate (i.e. small covariance, large weight, etc.)? Can you come up with a good visualization to convey information about which point belongs to which cluster?\n",
      "   \n",
      "The purpose of this exercise is not necessarily to answer these questions, but to spend time using the tools we've learned on some **real** data, so you can see just how messy the process of data mining is! (And hey, if you find something interesting, maybe you should write a quick paper about it!) Good luck!"
     ]
    }
   ],
   "metadata": {}
  }
 ]
}