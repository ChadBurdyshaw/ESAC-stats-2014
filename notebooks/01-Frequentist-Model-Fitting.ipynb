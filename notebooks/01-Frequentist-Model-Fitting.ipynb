{
 "metadata": {
  "name": "",
  "signature": "sha256:35f9ec7a95808401135f969622ff0e91ab2eb4aa0ad027e125f72eb6ada6faef"
 },
 "nbformat": 3,
 "nbformat_minor": 0,
 "worksheets": [
  {
   "cells": [
    {
     "cell_type": "markdown",
     "metadata": {},
     "source": [
      "# Frequentist Model Fitting"
     ]
    },
    {
     "cell_type": "markdown",
     "metadata": {},
     "source": [
      "- *Jake VanderPlas*\n",
      "- *ESAC statistics workshop, Oct 27-31 2014*\n",
      "- *Source available on [github](http://github.com/jakevdp/ESAC-stats-2014)"
     ]
    },
    {
     "cell_type": "markdown",
     "metadata": {},
     "source": [
      "## Outline"
     ]
    },
    {
     "cell_type": "markdown",
     "metadata": {},
     "source": [
      "- Straight-line Fit\n",
      "  + models and cost functions\n",
      "  + least absolute deviation\n",
      "  + least squares\n",
      "\n",
      "- A Probabilistic approach: the Likelihood\n",
      "  + equivalence to least squares\n",
      "  \n",
      "- Adding Errors\n",
      "  + easily done within max-likelihood\n",
      "  + example: mean in the presence of errors\n",
      "\n",
      "- Generalized Linear Models:\n",
      "  + Polynomial Regression\n",
      "  + Fourier Fitting\n",
      "  \n",
      "- Morning Breakout\n",
      "  + Doing a Fourier fit to an RR Lyrae Star"
     ]
    },
    {
     "cell_type": "markdown",
     "metadata": {},
     "source": [
      "## Preliminaries"
     ]
    },
    {
     "cell_type": "markdown",
     "metadata": {},
     "source": [
      "These lectures will use Python tools, but won't go into too much depth on the Python side of things. That said, we'll always start with a block something like this, which sets up our notebook for inline plotting."
     ]
    },
    {
     "cell_type": "code",
     "collapsed": false,
     "input": [
      "%matplotlib inline\n",
      "import numpy as np\n",
      "import matplotlib.pyplot as plt\n",
      "from scipy import stats\n",
      "\n",
      "# use seaborn plotting defaults\n",
      "import seaborn as sns\n",
      "sns.set()"
     ],
     "language": "python",
     "metadata": {},
     "outputs": [],
     "prompt_number": 1
    },
    {
     "cell_type": "markdown",
     "metadata": {},
     "source": [
      "## Simple Model Fitting: Straight Line Fit"
     ]
    },
    {
     "cell_type": "markdown",
     "metadata": {},
     "source": [
      "One of the most archetypical model fits you'll encounter is that of fitting a line to data.\n",
      "We'll use the following randomly-generated dataset and discuss how we might fit this:"
     ]
    },
    {
     "cell_type": "code",
     "collapsed": false,
     "input": [
      "from fig_code import linear_data_sample\n",
      "x, y, dy = linear_data_sample()\n",
      "plt.errorbar(x, y, dy, fmt='o');"
     ],
     "language": "python",
     "metadata": {},
     "outputs": [
      {
       "metadata": {},
       "output_type": "display_data",
       "png": "[encoded data removed]",
       "text": [
        "<matplotlib.figure.Figure at 0x106c81e10>"
       ]
      }
     ],
     "prompt_number": 2
    },
    {
     "cell_type": "markdown",
     "metadata": {},
     "source": [
      "You can see these points have errors; for now let's ignore those errors and just look at the points themselves:"
     ]
    },
    {
     "cell_type": "code",
     "collapsed": false,
     "input": [
      "plt.plot(x, y, 'o');"
     ],
     "language": "python",
     "metadata": {},
     "outputs": [
      {
       "metadata": {},
       "output_type": "display_data",
       "png": "[encoded data removed]",
       "text": [
        "<matplotlib.figure.Figure at 0x103714cd0>"
       ]
      }
     ],
     "prompt_number": 3
    },
    {
     "cell_type": "markdown",
     "metadata": {},
     "source": [
      "Let's think about what it takes to fit a straight line to this data."
     ]
    },
    {
     "cell_type": "heading",
     "level": 3,
     "metadata": {},
     "source": [
      "Defining the Model"
     ]
    },
    {
     "cell_type": "markdown",
     "metadata": {},
     "source": [
      "The first thing we must do is define our model. The *model* is usually some functional form which, as a function of various parameters, specifies what we **think** the data should look like.\n",
      "In this case, we'll use a standard linear model defined by a slope *m* and an intercept *b*:\n",
      "\n",
      "$$\n",
      "M(x;m,b) = m x + b\n",
      "$$\n",
      "\n",
      "For clarity, we'll try to write our models in this way: to the left of the semicolon is our data, and to the right of the semicolon are our model parameters.\n",
      "\n",
      "Now, examining our data above, we can quickly see that this model will **not** perfectly fit the data. So generally, what we're saying is that the data is distributed in some way around the model. For the most common assumption of normality, we're saying that\n",
      "\n",
      "$$\n",
      "y_i \\sim \\mathcal{N}[M(x;m,b), \\sigma]\n",
      "$$\n",
      "\n",
      "but we'll get into this later."
     ]
    },
    {
     "cell_type": "markdown",
     "metadata": {},
     "source": [
      "### Defining a Cost Function\n",
      "\n",
      "In order to fit a model to data, we need some way of *quantitatively* measuring how well a model with given parameters fits the data. That is, given a set of data $\\{x_i, y_i\\}$ and some parameters $\\theta = \\{m, b\\}$, how well does the model fit? This is usually denoted via **Cost Function**, which tells us how far our model is from being ideal.\n",
      "\n",
      "Specify the cost function & minimize it with respect to the model parameters, and you have your best fit! The cost function will look like this:\n",
      "\n",
      "$$\n",
      "C(\\theta;\\{x_i, y_i\\}) = ??\n",
      "$$\n",
      "\n",
      "**Question: What are some cost functions we might use?**"
     ]
    },
    {
     "cell_type": "markdown",
     "metadata": {},
     "source": [
      "Some ideas:\n",
      "\n",
      "#### Least absolute deviation\n",
      "\n",
      "$$\n",
      "C_{LAD} = \\sum_i \\left|y_i - M(x_i;\\theta)\\right|\n",
      "$$\n",
      "\n",
      "#### Least Squares\n",
      "\n",
      "$$\n",
      "C_{LS} = \\sum_i [y_i - M(x_i;\\theta)]^2\n",
      "$$\n",
      "\n",
      "#### Least absolute N-th power?\n",
      "\n",
      "$$\n",
      "C_{LN} = \\sum_i \\left|y_i - M(x_i;\\theta)\\right|^N\n",
      "$$\n",
      "\n",
      "#### Least hyperbolic cosine?\n",
      "\n",
      "$$\n",
      "C_{LHC} = \\sum_i \\cosh[y_i - M(x_i;\\theta)]\n",
      "$$\n"
     ]
    },
    {
     "cell_type": "markdown",
     "metadata": {},
     "source": [
      "We could literally use **any cost function we want**, though it's true that some have better properties than others, and are better motivated than others.\n",
      "Probably the most commonly-used cost functions are the first two here: least absolute deviation and least squares."
     ]
    },
    {
     "cell_type": "markdown",
     "metadata": {},
     "source": [
      "### Trying it Out\n",
      "\n",
      "Let's quickly code these up and see what happens:"
     ]
    },
    {
     "cell_type": "code",
     "collapsed": false,
     "input": [
      "def model(theta, x):\n",
      "    m, b = theta\n",
      "    return m * x + b\n",
      "\n",
      "def least_abs_deviation(theta, x, y):\n",
      "    return np.sum(abs(model(theta, x) - y))\n",
      "\n",
      "def least_squares(theta, x, y):\n",
      "    return np.sum((model(theta, x) - y) ** 2)"
     ],
     "language": "python",
     "metadata": {},
     "outputs": [],
     "prompt_number": 4
    },
    {
     "cell_type": "code",
     "collapsed": false,
     "input": [
      "from scipy.optimize import fmin\n",
      "theta_guess = [1, 0]\n",
      "\n",
      "theta_LAD = fmin(least_abs_deviation, theta_guess, args=(x, y))\n",
      "theta_LS = fmin(least_squares, theta_guess, args=(x, y))"
     ],
     "language": "python",
     "metadata": {},
     "outputs": [
      {
       "output_type": "stream",
       "stream": "stdout",
       "text": [
        "Optimization terminated successfully.\n",
        "         Current function value: 62.478260\n",
        "         Iterations: 110\n",
        "         Function evaluations: 205\n",
        "Optimization terminated successfully.\n",
        "         Current function value: 150.032670\n",
        "         Iterations: 83\n",
        "         Function evaluations: 156\n"
       ]
      }
     ],
     "prompt_number": 5
    },
    {
     "cell_type": "code",
     "collapsed": false,
     "input": [
      "xfit = np.linspace(0, 10)\n",
      "\n",
      "plt.plot(x, y, 'o')\n",
      "plt.plot(xfit, model(theta_LAD, xfit), label='Least Abs. Dev.')\n",
      "plt.plot(xfit, model(theta_LS, xfit), label='Least Sq.')\n",
      "plt.legend(loc='best');"
     ],
     "language": "python",
     "metadata": {},
     "outputs": [
      {
       "metadata": {},
       "output_type": "display_data",
       "png": "[encoded data removed]",
       "text": [
        "<matplotlib.figure.Figure at 0x109c11590>"
       ]
      }
     ],
     "prompt_number": 6
    },
    {
     "cell_type": "markdown",
     "metadata": {},
     "source": [
      "The results of both cost functions are similar! But this doesn't mean they're equal.\n",
      "In particular, you may have noticed that **least squares** is used much more often than **least absolute deviation**. There are several reasons for this, but we'll see below that part of it is the equivalence with the likelihood."
     ]
    },
    {
     "cell_type": "heading",
     "level": 2,
     "metadata": {},
     "source": [
      "Motivating our Cost Function: the Likelihood"
     ]
    },
    {
     "cell_type": "markdown",
     "metadata": {},
     "source": [
      "One way we can motivate the choice of cost function is to think of the problem probabilistically."
     ]
    },
    {
     "cell_type": "markdown",
     "metadata": {},
     "source": [
      "### Likelihood of a single point\n",
      "\n",
      "Consider just a single point in our data, $(x, y)$. What are we **actually** trying to figure out?\n",
      "\n",
      "Well, one way of looking at it is this: we know that for each $x$, there exists some \"true\" $y$ which we'll call $y_{true}$. But in our observing process, we have some probability distribution which describes how **likely** we are to observe a particular $y$ given the true $y$"
     ]
    },
    {
     "cell_type": "code",
     "collapsed": false,
     "input": [
      "ydiff = np.linspace(-4, 4, 1000)\n",
      "plt.plot(ydiff, stats.norm.pdf(ydiff, 0, 1))\n",
      "plt.xlabel('$y - y_{true}$', size=18)\n",
      "plt.ylabel('$p(y|y_{true})$', size=18);"
     ],
     "language": "python",
     "metadata": {},
     "outputs": [
      {
       "metadata": {},
       "output_type": "display_data",
       "png": "[encoded data removed]",
       "text": [
        "<matplotlib.figure.Figure at 0x109d3c890>"
       ]
      }
     ],
     "prompt_number": 7
    },
    {
     "cell_type": "markdown",
     "metadata": {},
     "source": [
      "Most commonly, we'll use a **normal (Gaussian) distribution** for this error.\n",
      "This can be justified in a number of ways (Central limit theorem, maximum entropy, etc.). So in effect, what we're saying is that $y$ is a random variable, which is distributed like\n",
      "\n",
      "$$\n",
      "y \\sim \\mathcal{N}[y_{true}, \\sigma^2]\n",
      "$$\n",
      "\n",
      "Given this (assumed) model for a single value of $y$, we can compute the probability of observing this point as follows:\n",
      "\n",
      "$$\n",
      "p(y|y_{true},\\sigma) = \\frac{1}{\\sqrt{2\\pi\\sigma^2}}\\exp\\left[\\frac{-(y - y_{true})^2}{2\\sigma^2}\\right]\n",
      "$$\n",
      "\n",
      "Here this should be read \"the probability of $y$ given $y_{true}$ and $\\sigma$ is...\"\n",
      "\n",
      "With this error distribution, we see that if our single observed point is far from the (unknown) true value, the probability is very low. If our single observed point is close to the true value, the probability is high."
     ]
    },
    {
     "cell_type": "markdown",
     "metadata": {},
     "source": [
      "### From Single Points to Two Points\n",
      "\n",
      "Above we've computed the likelihood for a single point: this is just a probability that we'd see this point given an (unknown) true value. How do we then combine this likelihood for multiple points?\n",
      "\n",
      "Essentially, we're asking **what is the joint probability of our points $y_1$ and $y_2$ given the true values $y_{1, true}$ and $y_{2, true}$?**\n",
      "In symbols, we want:\n",
      "\n",
      "$$\n",
      "p(y_1, y_2~|~I)\n",
      "$$\n",
      "\n",
      "where $I$ is shorthand for the information we're using (here the true values & errors).\n",
      "This is difficult to evaluate in general, but we can make one simplifying assumption that will change everything:\n",
      "\n",
      "**Assumption: $y_1$ is *independent* of $y_2$.**\n",
      "\n",
      "By the definition of independence, we can write\n",
      "\n",
      "$$\n",
      "p(y_1, y_2~|~I) = p(y_1~|~I) p(y_2~|~I)\n",
      "$$\n",
      "\n",
      "That is, independence lets us consider each measurement individually, and then multiply their probabilities together."
     ]
    },
    {
     "cell_type": "markdown",
     "metadata": {},
     "source": [
      "### From Two Points to $N$ Points\n",
      "\n",
      "You might see where this is going: if every single draw from our model is *independent* (that is, the random error in one point does not affect the random error in any other point), then we can compute the likelihood of the entire dataset very easily!\n",
      "\n",
      "$$\n",
      "p(\\{y_i\\}~|~I) = \\prod_{i=1}^N p(y_i~|~y_{i, true},\\sigma)\n",
      "$$\n",
      "\n",
      "This product of probabilities is known as the **Likelihood**. If we take the logarithm of this expression, the product turns into a sum, and we have the **log-Likelihood**, which is often denoted as follows:\n",
      "\n",
      "$$\n",
      "\\log L(\\{y_i\\}~|~I) = \\sum_{i=1}^N \\log p(y_i~|~y_{i, true},\\sigma)\n",
      "$$"
     ]
    },
    {
     "cell_type": "markdown",
     "metadata": {},
     "source": [
      "### So What?\n",
      "\n",
      "What we've created here is an expression, the **likelihood**, which depends on the data and our model for the true data.\n",
      "\n",
      "Above we've been talking about the \"true\" $y$.\n",
      "The problem is that we never actually know the true y! The true y (i.e. the best-fit model) is what we're trying to find.\n",
      "Given this formalism, it can be motivated that **the model which maximizes this likelihood is the model which best fits the data**. What this is saying is, essentially, the model which gives our observed data the highest probability is the most likely model.\n",
      "\n",
      "So: we need to maximize our likelihood (or equivalently, maximize our log-likelihood) by plugging-in the expression:\n",
      "\n",
      "$$\n",
      "y_{i, true} = m x_i + b\n",
      "$$"
     ]
    },
    {
     "cell_type": "markdown",
     "metadata": {},
     "source": [
      "### Maximizing our Likelihood\n",
      "\n",
      "To do this, we'll start by plugging our Gaussian model into the log-likelihood. Doing this, we get the following:\n",
      "\n",
      "$$\n",
      "\\log L(\\{x_i, y_i\\}~|~\\theta, \\sigma) = \\frac{-N}{2}\\log(2\\pi\\sigma^2) - \\sum_{i=1}^N [(y_i - M(x_i;\\theta))]^2\n",
      "$$\n",
      "\n",
      "OK... now we notice something. The second term here is **exactly** the least-squares cost function we proposed before!\n",
      "\n",
      "$$\n",
      "\\log L(\\{x_i, y_i\\}~|~\\theta, \\sigma) = \\frac{-N}{2}\\log(2\\pi\\sigma^2) - C_{LS}(\\{x_i, y_i\\}~|~\\theta)\n",
      "$$\n",
      "\n",
      "And notice something else: the first term is basically a constant, which means that *maximizing the likelihood is **identical** to minimizing the sum of squares!*\n",
      "\n",
      "And this is one reason that least-squares fitting is so common: it follows from several assumptions:\n",
      "\n",
      "1. The error distribution of the observed points is Gaussian.\n",
      "2. The errors in observed points are independently drawn.\n",
      "3. The model which is most likely to have led to our data is the optimal model."
     ]
    },
    {
     "cell_type": "code",
     "collapsed": false,
     "input": [],
     "language": "python",
     "metadata": {},
     "outputs": [],
     "prompt_number": 7
    }
   ],
   "metadata": {}
  }
 ]
}